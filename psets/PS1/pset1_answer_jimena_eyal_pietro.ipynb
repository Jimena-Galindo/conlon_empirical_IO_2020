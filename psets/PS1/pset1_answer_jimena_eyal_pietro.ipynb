{
  "nbformat": 4,
  "nbformat_minor": 0,
  "metadata": {
    "colab": {
      "name": "Untitled0.ipynb",
      "provenance": [],
      "collapsed_sections": []
    },
    "kernelspec": {
      "name": "python3",
      "display_name": "Python 3"
    }
  },
  "cells": [
    {
      "cell_type": "markdown",
      "metadata": {
        "id": "H-m1bYJO_nRP"
      },
      "source": [
        "## Empirical IO - Probem Set 1\n",
        "Eyal, Jimena and Pietro"
      ]
    },
    {
      "cell_type": "markdown",
      "metadata": {
        "id": "zpF3OwPO_iLT"
      },
      "source": [
        "## Data Cleaning\n",
        "Before we start estimation, we need to manipulate data a bit so that we have the incomes at the bottom, middle and top of the bins. We also need to deal with the different categorization for year 2010 and on. The last thing we need to do before we start estimation is to manipulate the projection factors so that we get weights that add up to one. We do all of that setup in this section."
      ]
    },
    {
      "cell_type": "code",
      "metadata": {
        "id": "KZAeGixE_MkJ"
      },
      "source": [
        "import numpy as np\n",
        "import pandas as pd\n",
        "import scipy as sp\n",
        "from scipy.optimize import minimize\n",
        "import matplotlib as plt\n",
        "\n",
        "#Data = pd.read_csv('simulated_income_data.csv', index_col=0) \n",
        "\n",
        "Data = pd.read_csv('https://raw.githubusercontent.com/pietroreggiani/Grad-IO/master/Assignments/Assignment%201-MLE%20and%20GMM/simulated_income_data.csv', index_col=0)"
      ],
      "execution_count": 322,
      "outputs": []
    },
    {
      "cell_type": "code",
      "metadata": {
        "id": "w85iBeJQalUj",
        "outputId": "18e872f1-9721-4ec1-998a-d8d94c9aeb8d",
        "colab": {
          "base_uri": "https://localhost:8080/",
          "height": 424
        }
      },
      "source": [
        "Data"
      ],
      "execution_count": 323,
      "outputs": [
        {
          "output_type": "execute_result",
          "data": {
            "text/html": [
              "<div>\n",
              "<style scoped>\n",
              "    .dataframe tbody tr th:only-of-type {\n",
              "        vertical-align: middle;\n",
              "    }\n",
              "\n",
              "    .dataframe tbody tr th {\n",
              "        vertical-align: top;\n",
              "    }\n",
              "\n",
              "    .dataframe thead th {\n",
              "        text-align: right;\n",
              "    }\n",
              "</style>\n",
              "<table border=\"1\" class=\"dataframe\">\n",
              "  <thead>\n",
              "    <tr style=\"text-align: right;\">\n",
              "      <th></th>\n",
              "      <th>panel_year</th>\n",
              "      <th>household_income</th>\n",
              "      <th>projection_factor</th>\n",
              "    </tr>\n",
              "  </thead>\n",
              "  <tbody>\n",
              "    <tr>\n",
              "      <th>0</th>\n",
              "      <td>2007</td>\n",
              "      <td>3</td>\n",
              "      <td>3086</td>\n",
              "    </tr>\n",
              "    <tr>\n",
              "      <th>1</th>\n",
              "      <td>2007</td>\n",
              "      <td>4</td>\n",
              "      <td>3451</td>\n",
              "    </tr>\n",
              "    <tr>\n",
              "      <th>2</th>\n",
              "      <td>2007</td>\n",
              "      <td>6</td>\n",
              "      <td>7203</td>\n",
              "    </tr>\n",
              "    <tr>\n",
              "      <th>3</th>\n",
              "      <td>2007</td>\n",
              "      <td>8</td>\n",
              "      <td>9264</td>\n",
              "    </tr>\n",
              "    <tr>\n",
              "      <th>4</th>\n",
              "      <td>2007</td>\n",
              "      <td>10</td>\n",
              "      <td>7331</td>\n",
              "    </tr>\n",
              "    <tr>\n",
              "      <th>...</th>\n",
              "      <td>...</td>\n",
              "      <td>...</td>\n",
              "      <td>...</td>\n",
              "    </tr>\n",
              "    <tr>\n",
              "      <th>116</th>\n",
              "      <td>2013</td>\n",
              "      <td>19</td>\n",
              "      <td>15934</td>\n",
              "    </tr>\n",
              "    <tr>\n",
              "      <th>117</th>\n",
              "      <td>2013</td>\n",
              "      <td>21</td>\n",
              "      <td>32978</td>\n",
              "    </tr>\n",
              "    <tr>\n",
              "      <th>118</th>\n",
              "      <td>2013</td>\n",
              "      <td>23</td>\n",
              "      <td>26666</td>\n",
              "    </tr>\n",
              "    <tr>\n",
              "      <th>119</th>\n",
              "      <td>2013</td>\n",
              "      <td>26</td>\n",
              "      <td>89884</td>\n",
              "    </tr>\n",
              "    <tr>\n",
              "      <th>120</th>\n",
              "      <td>2013</td>\n",
              "      <td>27</td>\n",
              "      <td>156732</td>\n",
              "    </tr>\n",
              "  </tbody>\n",
              "</table>\n",
              "<p>121 rows × 3 columns</p>\n",
              "</div>"
            ],
            "text/plain": [
              "     panel_year  household_income  projection_factor\n",
              "0          2007                 3               3086\n",
              "1          2007                 4               3451\n",
              "2          2007                 6               7203\n",
              "3          2007                 8               9264\n",
              "4          2007                10               7331\n",
              "..          ...               ...                ...\n",
              "116        2013                19              15934\n",
              "117        2013                21              32978\n",
              "118        2013                23              26666\n",
              "119        2013                26              89884\n",
              "120        2013                27             156732\n",
              "\n",
              "[121 rows x 3 columns]"
            ]
          },
          "metadata": {
            "tags": []
          },
          "execution_count": 323
        }
      ]
    },
    {
      "cell_type": "code",
      "metadata": {
        "id": "eH-5yb81_Vqm",
        "outputId": "81dbb45b-7d04-403b-d087-b0abac381c12",
        "colab": {
          "base_uri": "https://localhost:8080/",
          "height": 384
        }
      },
      "source": [
        "### the codes for the tops of the inccome bins are given by top (except for the last bien which is not bounded):\n",
        "### we will need to deal with the year 2010 onwards in a different way since the top bracket changes\n",
        "\n",
        "incomes = pd.DataFrame( np.array([[3, 4999], [4, 7999], [6, 9999], [8, 11999], [10, 14999], [11, 19999], [13, 24999], \\\n",
        "                              [15, 29999], [16, 35999], [17, 39999], [18, 44999], [19, 49999], [21, 59999], [23, 69999], \\\n",
        "                              [26, 99999], [27, 124999], [28, 149999], [29, 199999], [30, 10**6]  ])     ,   columns = ['household_income' , 'top_income']   )\n",
        "\n",
        "### for the bottoms of the bins we have an extra bin (now the top bin has a value and we assign zero to the first bin):\n",
        "incomes['bottom_income'] = np.append( 0.5, np.array( incomes['top_income'][0:-1]+1   ) )   \n",
        "incomes['mid_income'] = (incomes['bottom_income']+incomes['top_income'] ) /2\n",
        "\n",
        "print(incomes)\n",
        "\n",
        "### for the mid points we just use the bottom and top form above:\n",
        "### again we will have to deal with year 2010 onwards in a different way but we worry about that later\n"
      ],
      "execution_count": 324,
      "outputs": [
        {
          "output_type": "stream",
          "text": [
            "    household_income  top_income  bottom_income  mid_income\n",
            "0                  3        4999            0.5     2499.75\n",
            "1                  4        7999         5000.0     6499.50\n",
            "2                  6        9999         8000.0     8999.50\n",
            "3                  8       11999        10000.0    10999.50\n",
            "4                 10       14999        12000.0    13499.50\n",
            "5                 11       19999        15000.0    17499.50\n",
            "6                 13       24999        20000.0    22499.50\n",
            "7                 15       29999        25000.0    27499.50\n",
            "8                 16       35999        30000.0    32999.50\n",
            "9                 17       39999        36000.0    37999.50\n",
            "10                18       44999        40000.0    42499.50\n",
            "11                19       49999        45000.0    47499.50\n",
            "12                21       59999        50000.0    54999.50\n",
            "13                23       69999        60000.0    64999.50\n",
            "14                26       99999        70000.0    84999.50\n",
            "15                27      124999       100000.0   112499.50\n",
            "16                28      149999       125000.0   137499.50\n",
            "17                29      199999       150000.0   174999.50\n",
            "18                30     1000000       200000.0   600000.00\n"
          ],
          "name": "stdout"
        }
      ]
    },
    {
      "cell_type": "code",
      "metadata": {
        "id": "xFaKJAomZhEO"
      },
      "source": [
        "## we get the average projection factor for each of the last bins (up to and including 2009) so that we can use it to fill in the missing bins for the years 2010 onwards\n",
        "last_bins = Data.loc[(Data['panel_year']<=2009) & (Data['household_income']>=27)]  \n",
        "\n",
        "factors = np.array([np.mean(last_bins[last_bins['household_income']==i]['projection_factor']) for i in range(27,31)])\n",
        "\n",
        "rel_factor = factors/np.sum(factors)\n"
      ],
      "execution_count": 325,
      "outputs": []
    },
    {
      "cell_type": "code",
      "metadata": {
        "id": "YVJJAML6JHJ_",
        "outputId": "f2aaf68f-5563-4aac-f3ab-915ffba17048",
        "colab": {
          "base_uri": "https://localhost:8080/",
          "height": 109
        }
      },
      "source": [
        "## for the years where we don't have the last bins we use the relative factors computed above\n",
        "missing_bins = Data[Data['panel_year']>=2010]\n",
        "Bin27 = missing_bins[missing_bins['household_income']==27]['projection_factor']\n",
        "print(Bin27)\n",
        "new_factors = []\n",
        "for t in Bin27:\n",
        "  new_factors = np.append(new_factors, t*rel_factor)\n"
      ],
      "execution_count": 326,
      "outputs": [
        {
          "output_type": "stream",
          "text": [
            "72     158363\n",
            "88     167717\n",
            "104    144486\n",
            "120    156732\n",
            "Name: projection_factor, dtype: int64\n"
          ],
          "name": "stdout"
        }
      ]
    },
    {
      "cell_type": "code",
      "metadata": {
        "id": "bqd0dWO8iyMT"
      },
      "source": [
        "### We create an array with the new Rows that we want to add (for the bins that we created) and append those rows to the Data frame\n",
        "vector =  np.ones(4)\n",
        "years = np.array([2010*vector, 2011*vector, 2012*vector, 2013*vector])\n",
        "years = years.flatten()\n",
        "\n",
        "\n",
        "Bin_id = np.vstack([[27, 28, 29, 30], [27, 28, 29, 30], [27, 28, 29, 30], [27, 28, 29, 30]])\n",
        "Bin_id = Bin_id.flatten()\n",
        "Bin_id\n",
        "\n",
        "Rows_matrix = np.column_stack((years, Bin_id, new_factors.flatten()))\n",
        "columns = Data.columns \n",
        "Rows_DF = pd.DataFrame(Rows_matrix, columns=columns)\n"
      ],
      "execution_count": 327,
      "outputs": []
    },
    {
      "cell_type": "code",
      "metadata": {
        "id": "bSFixbEKKj1Y",
        "outputId": "13944c2e-132e-4fdb-d038-86bf5af731af",
        "colab": {
          "base_uri": "https://localhost:8080/",
          "height": 424
        }
      },
      "source": [
        "### drop the rows that we are replacing and append the new ones: all the years that have bin 27 as the last one are being replaced by the new rows with bins 27, 28 , 29 and 30\n",
        "Data1=Data.drop(Bin27.index)\n",
        "\n",
        "Data_2 = Data1.append(Rows_DF, ignore_index=True)\n",
        "\n",
        "Data_2 #is the new data set where we spread the 27th bin into 30 bins according to proportion before 2010"
      ],
      "execution_count": 328,
      "outputs": [
        {
          "output_type": "execute_result",
          "data": {
            "text/html": [
              "<div>\n",
              "<style scoped>\n",
              "    .dataframe tbody tr th:only-of-type {\n",
              "        vertical-align: middle;\n",
              "    }\n",
              "\n",
              "    .dataframe tbody tr th {\n",
              "        vertical-align: top;\n",
              "    }\n",
              "\n",
              "    .dataframe thead th {\n",
              "        text-align: right;\n",
              "    }\n",
              "</style>\n",
              "<table border=\"1\" class=\"dataframe\">\n",
              "  <thead>\n",
              "    <tr style=\"text-align: right;\">\n",
              "      <th></th>\n",
              "      <th>panel_year</th>\n",
              "      <th>household_income</th>\n",
              "      <th>projection_factor</th>\n",
              "    </tr>\n",
              "  </thead>\n",
              "  <tbody>\n",
              "    <tr>\n",
              "      <th>0</th>\n",
              "      <td>2007.0</td>\n",
              "      <td>3.0</td>\n",
              "      <td>3086.000000</td>\n",
              "    </tr>\n",
              "    <tr>\n",
              "      <th>1</th>\n",
              "      <td>2007.0</td>\n",
              "      <td>4.0</td>\n",
              "      <td>3451.000000</td>\n",
              "    </tr>\n",
              "    <tr>\n",
              "      <th>2</th>\n",
              "      <td>2007.0</td>\n",
              "      <td>6.0</td>\n",
              "      <td>7203.000000</td>\n",
              "    </tr>\n",
              "    <tr>\n",
              "      <th>3</th>\n",
              "      <td>2007.0</td>\n",
              "      <td>8.0</td>\n",
              "      <td>9264.000000</td>\n",
              "    </tr>\n",
              "    <tr>\n",
              "      <th>4</th>\n",
              "      <td>2007.0</td>\n",
              "      <td>10.0</td>\n",
              "      <td>7331.000000</td>\n",
              "    </tr>\n",
              "    <tr>\n",
              "      <th>...</th>\n",
              "      <td>...</td>\n",
              "      <td>...</td>\n",
              "      <td>...</td>\n",
              "    </tr>\n",
              "    <tr>\n",
              "      <th>128</th>\n",
              "      <td>2012.0</td>\n",
              "      <td>30.0</td>\n",
              "      <td>12004.183713</td>\n",
              "    </tr>\n",
              "    <tr>\n",
              "      <th>129</th>\n",
              "      <td>2013.0</td>\n",
              "      <td>27.0</td>\n",
              "      <td>107003.771988</td>\n",
              "    </tr>\n",
              "    <tr>\n",
              "      <th>130</th>\n",
              "      <td>2013.0</td>\n",
              "      <td>28.0</td>\n",
              "      <td>18089.812476</td>\n",
              "    </tr>\n",
              "    <tr>\n",
              "      <th>131</th>\n",
              "      <td>2013.0</td>\n",
              "      <td>29.0</td>\n",
              "      <td>18616.809832</td>\n",
              "    </tr>\n",
              "    <tr>\n",
              "      <th>132</th>\n",
              "      <td>2013.0</td>\n",
              "      <td>30.0</td>\n",
              "      <td>13021.605703</td>\n",
              "    </tr>\n",
              "  </tbody>\n",
              "</table>\n",
              "<p>133 rows × 3 columns</p>\n",
              "</div>"
            ],
            "text/plain": [
              "     panel_year  household_income  projection_factor\n",
              "0        2007.0               3.0        3086.000000\n",
              "1        2007.0               4.0        3451.000000\n",
              "2        2007.0               6.0        7203.000000\n",
              "3        2007.0               8.0        9264.000000\n",
              "4        2007.0              10.0        7331.000000\n",
              "..          ...               ...                ...\n",
              "128      2012.0              30.0       12004.183713\n",
              "129      2013.0              27.0      107003.771988\n",
              "130      2013.0              28.0       18089.812476\n",
              "131      2013.0              29.0       18616.809832\n",
              "132      2013.0              30.0       13021.605703\n",
              "\n",
              "[133 rows x 3 columns]"
            ]
          },
          "metadata": {
            "tags": []
          },
          "execution_count": 328
        }
      ]
    },
    {
      "cell_type": "code",
      "metadata": {
        "id": "vshi8nSbvDGK",
        "outputId": "55fe09d2-f39a-451b-bf15-d1506392bc5d",
        "colab": {
          "base_uri": "https://localhost:8080/",
          "height": 424
        }
      },
      "source": [
        "### now we deal with the weights that we will use to calcualte the empirical moments \n",
        "### and add them as a column to our data frame\n",
        "\n",
        "# we need to normalize the weights within every year so that they sum to one \n",
        "# we will end up with the fraction of people in each income bracket every year\n",
        "Data_2['yearly_sum'] = Data_2['projection_factor'].groupby(Data_2['panel_year']).transform('sum')\n",
        "\n",
        "Data_2['yearly_weights'] = Data_2['projection_factor'] / Data_2['yearly_sum']\n",
        "\n",
        "# the yearly weights sum to one every year ----> GREAT\n",
        "\n",
        "\n",
        "## Join to data the income vectors we created above for bottom middle and top.\n",
        "table =  pd.merge(Data_2, incomes  , on='household_income', how ='left')\n",
        "\n",
        "table = table.sort_values(['panel_year', 'household_income'])\n",
        "table"
      ],
      "execution_count": 329,
      "outputs": [
        {
          "output_type": "execute_result",
          "data": {
            "text/html": [
              "<div>\n",
              "<style scoped>\n",
              "    .dataframe tbody tr th:only-of-type {\n",
              "        vertical-align: middle;\n",
              "    }\n",
              "\n",
              "    .dataframe tbody tr th {\n",
              "        vertical-align: top;\n",
              "    }\n",
              "\n",
              "    .dataframe thead th {\n",
              "        text-align: right;\n",
              "    }\n",
              "</style>\n",
              "<table border=\"1\" class=\"dataframe\">\n",
              "  <thead>\n",
              "    <tr style=\"text-align: right;\">\n",
              "      <th></th>\n",
              "      <th>panel_year</th>\n",
              "      <th>household_income</th>\n",
              "      <th>projection_factor</th>\n",
              "      <th>yearly_sum</th>\n",
              "      <th>yearly_weights</th>\n",
              "      <th>top_income</th>\n",
              "      <th>bottom_income</th>\n",
              "      <th>mid_income</th>\n",
              "    </tr>\n",
              "  </thead>\n",
              "  <tbody>\n",
              "    <tr>\n",
              "      <th>0</th>\n",
              "      <td>2007.0</td>\n",
              "      <td>3.0</td>\n",
              "      <td>3086.000000</td>\n",
              "      <td>501337.0</td>\n",
              "      <td>0.006156</td>\n",
              "      <td>4999</td>\n",
              "      <td>0.5</td>\n",
              "      <td>2499.75</td>\n",
              "    </tr>\n",
              "    <tr>\n",
              "      <th>1</th>\n",
              "      <td>2007.0</td>\n",
              "      <td>4.0</td>\n",
              "      <td>3451.000000</td>\n",
              "      <td>501337.0</td>\n",
              "      <td>0.006884</td>\n",
              "      <td>7999</td>\n",
              "      <td>5000.0</td>\n",
              "      <td>6499.50</td>\n",
              "    </tr>\n",
              "    <tr>\n",
              "      <th>2</th>\n",
              "      <td>2007.0</td>\n",
              "      <td>6.0</td>\n",
              "      <td>7203.000000</td>\n",
              "      <td>501337.0</td>\n",
              "      <td>0.014368</td>\n",
              "      <td>9999</td>\n",
              "      <td>8000.0</td>\n",
              "      <td>8999.50</td>\n",
              "    </tr>\n",
              "    <tr>\n",
              "      <th>3</th>\n",
              "      <td>2007.0</td>\n",
              "      <td>8.0</td>\n",
              "      <td>9264.000000</td>\n",
              "      <td>501337.0</td>\n",
              "      <td>0.018479</td>\n",
              "      <td>11999</td>\n",
              "      <td>10000.0</td>\n",
              "      <td>10999.50</td>\n",
              "    </tr>\n",
              "    <tr>\n",
              "      <th>4</th>\n",
              "      <td>2007.0</td>\n",
              "      <td>10.0</td>\n",
              "      <td>7331.000000</td>\n",
              "      <td>501337.0</td>\n",
              "      <td>0.014623</td>\n",
              "      <td>14999</td>\n",
              "      <td>12000.0</td>\n",
              "      <td>13499.50</td>\n",
              "    </tr>\n",
              "    <tr>\n",
              "      <th>...</th>\n",
              "      <td>...</td>\n",
              "      <td>...</td>\n",
              "      <td>...</td>\n",
              "      <td>...</td>\n",
              "      <td>...</td>\n",
              "      <td>...</td>\n",
              "      <td>...</td>\n",
              "      <td>...</td>\n",
              "    </tr>\n",
              "    <tr>\n",
              "      <th>116</th>\n",
              "      <td>2013.0</td>\n",
              "      <td>26.0</td>\n",
              "      <td>89884.000000</td>\n",
              "      <td>496189.0</td>\n",
              "      <td>0.181149</td>\n",
              "      <td>99999</td>\n",
              "      <td>70000.0</td>\n",
              "      <td>84999.50</td>\n",
              "    </tr>\n",
              "    <tr>\n",
              "      <th>129</th>\n",
              "      <td>2013.0</td>\n",
              "      <td>27.0</td>\n",
              "      <td>107003.771988</td>\n",
              "      <td>496189.0</td>\n",
              "      <td>0.215651</td>\n",
              "      <td>124999</td>\n",
              "      <td>100000.0</td>\n",
              "      <td>112499.50</td>\n",
              "    </tr>\n",
              "    <tr>\n",
              "      <th>130</th>\n",
              "      <td>2013.0</td>\n",
              "      <td>28.0</td>\n",
              "      <td>18089.812476</td>\n",
              "      <td>496189.0</td>\n",
              "      <td>0.036458</td>\n",
              "      <td>149999</td>\n",
              "      <td>125000.0</td>\n",
              "      <td>137499.50</td>\n",
              "    </tr>\n",
              "    <tr>\n",
              "      <th>131</th>\n",
              "      <td>2013.0</td>\n",
              "      <td>29.0</td>\n",
              "      <td>18616.809832</td>\n",
              "      <td>496189.0</td>\n",
              "      <td>0.037520</td>\n",
              "      <td>199999</td>\n",
              "      <td>150000.0</td>\n",
              "      <td>174999.50</td>\n",
              "    </tr>\n",
              "    <tr>\n",
              "      <th>132</th>\n",
              "      <td>2013.0</td>\n",
              "      <td>30.0</td>\n",
              "      <td>13021.605703</td>\n",
              "      <td>496189.0</td>\n",
              "      <td>0.026243</td>\n",
              "      <td>1000000</td>\n",
              "      <td>200000.0</td>\n",
              "      <td>600000.00</td>\n",
              "    </tr>\n",
              "  </tbody>\n",
              "</table>\n",
              "<p>133 rows × 8 columns</p>\n",
              "</div>"
            ],
            "text/plain": [
              "     panel_year  household_income  ...  bottom_income  mid_income\n",
              "0        2007.0               3.0  ...            0.5     2499.75\n",
              "1        2007.0               4.0  ...         5000.0     6499.50\n",
              "2        2007.0               6.0  ...         8000.0     8999.50\n",
              "3        2007.0               8.0  ...        10000.0    10999.50\n",
              "4        2007.0              10.0  ...        12000.0    13499.50\n",
              "..          ...               ...  ...            ...         ...\n",
              "116      2013.0              26.0  ...        70000.0    84999.50\n",
              "129      2013.0              27.0  ...       100000.0   112499.50\n",
              "130      2013.0              28.0  ...       125000.0   137499.50\n",
              "131      2013.0              29.0  ...       150000.0   174999.50\n",
              "132      2013.0              30.0  ...       200000.0   600000.00\n",
              "\n",
              "[133 rows x 8 columns]"
            ]
          },
          "metadata": {
            "tags": []
          },
          "execution_count": 329
        }
      ]
    },
    {
      "cell_type": "code",
      "metadata": {
        "id": "nuWmAijSFdqs",
        "outputId": "5181e6f4-8b1a-4c5d-cd8b-5185beb669aa",
        "colab": {
          "base_uri": "https://localhost:8080/",
          "height": 336
        }
      },
      "source": [
        "## Plot the distribution\n",
        "empirical_dist =  table.groupby('mid_income').mean() \n",
        "\n",
        "empirical_dist = empirical_dist['yearly_weights']\n",
        "\n",
        "import matplotlib.pyplot as plt\n",
        "plt = empirical_dist.plot(kind='bar',x='mid_income',y ='yearly_weights')\n",
        "plt"
      ],
      "execution_count": 330,
      "outputs": [
        {
          "output_type": "execute_result",
          "data": {
            "text/plain": [
              "<matplotlib.axes._subplots.AxesSubplot at 0x7fc3ca309a58>"
            ]
          },
          "metadata": {
            "tags": []
          },
          "execution_count": 330
        },
        {
          "output_type": "display_data",
          "data": {
            "image/png": "[encoded data removed]",
            "text/plain": [
              "<Figure size 432x288 with 1 Axes>"
            ]
          },
          "metadata": {
            "tags": [],
            "needs_background": "light"
          }
        }
      ]
    },
    {
      "cell_type": "markdown",
      "metadata": {
        "id": "LMrIxBLgH3xZ"
      },
      "source": [
        "## Part 1: Method of Moments\n",
        "\n",
        "First we assume that the distribution of income is lognormal. \n",
        "\n",
        " We want to compute, by MM, the estimator of the parameters. Then we take $\\log y_i$ and estimate the parameters of a normal distribution."
      ]
    },
    {
      "cell_type": "code",
      "metadata": {
        "id": "Ze4xdYiZBTfH"
      },
      "source": [
        "# define a function that takes the correct column and returns average and variance\n",
        "def howImetmom(table, col_name , log = 0 ):\n",
        "\n",
        "  fun = lambda x: (np.log(x) if log ==1 else x)\n",
        "\n",
        "  num_years = np.size( table['panel_year'].unique() )\n",
        "\n",
        "  mean =  (  np.dot(  np.array( table['projection_factor']) , fun( np.array(table[col_name] ) ) )   ).sum() /  np.array(table['projection_factor'].sum())\n",
        "\n",
        "  var   =    (  (( fun( table[col_name] ) - mean )**2).dot(np.array(table['projection_factor'])) ).sum()  / np.array(table['projection_factor'].sum())\n",
        "\n",
        "  \n",
        "  if log == 0:\n",
        "    sigma = np.sqrt( np.log(     (   var / np.exp(2* np.log(mean)  )      ) +1     )      )\n",
        "    mu = np.log(mean) - 0.5 * sigma **2\n",
        "  else:\n",
        "    mu = mean\n",
        "    sigma = np.sqrt(var)  \n",
        "\n",
        "  return mu, sigma\n",
        "\n",
        "def lognormal_convert(x):\n",
        "  mu = x[0]\n",
        "  sigma = x[1]\n",
        "  mean = np.exp(mu + sigma**2 /2 )\n",
        "  sd =  np.sqrt(( np.exp(sigma**2) -1 )*np.exp(2*mu + sigma**2))\n",
        "  return mean, sd"
      ],
      "execution_count": 331,
      "outputs": []
    },
    {
      "cell_type": "code",
      "metadata": {
        "id": "-DJep6QI0Zv_",
        "outputId": "fd9f8491-5576-4a0d-ad14-40a0c4453435",
        "colab": {
          "base_uri": "https://localhost:8080/",
          "height": 35
        }
      },
      "source": [
        "mm_estimates = []\n",
        "for assumption in ['bottom_income', 'mid_income' , 'top_income']:\n",
        "  estimates = howImetmom(table, assumption    , log=1)\n",
        "  \n",
        "  mm_estimates.append( lognormal_convert(estimates)  )\n",
        "\n",
        "print(mm_estimates)"
      ],
      "execution_count": 332,
      "outputs": [
        {
          "output_type": "stream",
          "text": [
            "[(145647.7167617844, 440880.44368137774), (87375.66048075157, 94863.43417129105), (99801.39410080369, 109933.00524798769)]\n"
          ],
          "name": "stdout"
        }
      ]
    },
    {
      "cell_type": "markdown",
      "metadata": {
        "id": "BS2UtNKDLVhk"
      },
      "source": [
        "The estimated mean income is around \\$100k and makes sense. The standard deviations however are wild."
      ]
    },
    {
      "cell_type": "markdown",
      "metadata": {
        "id": "1VZey0yRKCzj"
      },
      "source": [
        "## Part 2: Maximum likelihood"
      ]
    },
    {
      "cell_type": "markdown",
      "metadata": {
        "id": "0ASmde3AL1DG"
      },
      "source": [
        "Write the likelihood for the entire sample.\n",
        "\n",
        "$$\n",
        "f(sample |\\mu, \\sigma) = \\Pi_{i=1}^{ n } \\left(  \\frac{1}{\\sigma \\sqrt{2\\pi}} exp(-0.5 *(   \\frac{ln(y_i)- \\mu}{\\sigma}  )^2) \\right)^{{proj\\_factor}_{i}}\n",
        "$$\n",
        "\n",
        "now taking the log we get:\n",
        "$$\n",
        "ln(f(sample |\\mu, \\sigma))  = constant - \\frac{1}{2}\\sum_{i=1}^{n} proj\\_factor_i (   \\frac{ln(y_i)- \\mu}{\\sigma}  )^2 \n",
        "$$\n",
        "\n",
        "The score of this is the gradient with respect to the parameters.\n",
        "The derivative with respect to $\\mu$ is \n",
        "$$ \\frac{\\partial l}{\\partial \\mu} = \\sum_{i=1}^{n} proj\\_factor_i ( \\frac{ln(y_i)- \\mu}{\\sigma ^2}    )\n",
        "$$\n",
        "while the one wrt to sigma is:\n",
        "\n",
        "$$\n",
        "\\frac{\\partial l}{\\partial \\sigma} = \\sum_{i=1}^{n} proj\\_factor_i ( \\frac{(ln(y_i)- \\mu)^2}{\\sigma ^3}    )\n",
        "$$"
      ]
    },
    {
      "cell_type": "code",
      "metadata": {
        "id": "P13I3HJZC_Jy"
      },
      "source": [
        "## write down the log likelihood function\n",
        "\n",
        "def log_lik( theta, data, col_name):\n",
        "\n",
        "  mu = theta[0]\n",
        "  sigma = theta[1]\n",
        "\n",
        "  log_likelihood =    np.dot( np.array( data['projection_factor']) ,     ( (  np.log(np.array(data[col_name])) - mu   ) / sigma )**2  ).sum()\n",
        "\n",
        "  return log_likelihood"
      ],
      "execution_count": 333,
      "outputs": []
    },
    {
      "cell_type": "code",
      "metadata": {
        "id": "A7vGVIzUTW38"
      },
      "source": [
        "# write the Jacobian\n",
        "def jacob(theta, data, col_name):\n",
        "\n",
        "  mu = theta[0]\n",
        "  sigma = theta[1]\n",
        "    \n",
        "  deriv_mu =  -2 *  np.dot( np.array( data['projection_factor']) ,     ( (  np.log(np.array(data[col_name])) - mu   ) / sigma**2 )  ).sum()\n",
        "\n",
        "  deriv_sigma  = -2 *   np.dot( np.array( data['projection_factor']) ,     ( (  np.log(np.array(data[col_name])) - mu   )**2 / sigma**3 )  ).sum()\n",
        "\n",
        "  return np.array([deriv_mu, deriv_sigma])\n"
      ],
      "execution_count": 334,
      "outputs": []
    },
    {
      "cell_type": "code",
      "metadata": {
        "id": "lhj6sYFIV270",
        "outputId": "beffa26d-acbd-4c71-8603-5c8526887730",
        "colab": {
          "base_uri": "https://localhost:8080/",
          "height": 54
        }
      },
      "source": [
        "# now we need to find the MLE by optimizing the function\n",
        "\n",
        "mle = []\n",
        "for assumption in ['bottom_income', 'mid_income' , 'top_income']:\n",
        "  output = minimize(  log_lik , np.array([ 8 , 500 ]) , args = ( table , assumption)  , jac = jacob  , method= 'Newton-CG' , options = {'maxiter' : 2000}   )   \n",
        "  mle.append(output.x)\n",
        "\n",
        "print( 'The estimates for the log income are \\n'  ,   mle)\n",
        "\n"
      ],
      "execution_count": 335,
      "outputs": [
        {
          "output_type": "stream",
          "text": [
            "The estimates for the log income are \n",
            " [array([  10.72933424, 7787.33464334]), array([  10.98867487, 5649.05655343]), array([  11.11374864, 5777.74756113])]\n"
          ],
          "name": "stdout"
        }
      ]
    },
    {
      "cell_type": "markdown",
      "metadata": {
        "id": "yosh-RmuqkjU"
      },
      "source": [
        "We have the point estimates, now we need to compute the standard errors.\n",
        "\n",
        "For that we need to compute analytically the second derivative of the log-likelihood.\n",
        "\n",
        "$$ \\frac{\\partial^2 l}{\\partial \\mu^2} = - \\sum_{i=1}^{n} proj\\_factor_i ( \\frac{1}{\\sigma ^2}    )\n",
        "$$\n",
        "\n",
        "$$ \\frac{\\partial^2 l}{\\partial \\mu \\partial \\sigma} = - 2 \\sum_{i=1}^{n} proj\\_factor_i ( \\frac{ ln(y_i) - \\mu}{\\sigma ^3}    )\n",
        "$$\n",
        "\n",
        "$$ \\frac{\\partial^2 l}{\\partial \\sigma^2} = - 3 \\sum_{i=1}^{n} proj\\_factor_i \\left( \\frac{ (ln(y_i) - \\mu)^2}{\\sigma ^4}    \\right)\n",
        "$$"
      ]
    },
    {
      "cell_type": "code",
      "metadata": {
        "id": "BSJ47hSfuhZO"
      },
      "source": [
        "# we define a function that computes the hessian matrix given some parameters\n",
        "def hessian(theta, col_name):\n",
        "  mu, sigma = theta\n",
        "  second_mu = - (1/sigma**2) *  np.array(table['projection_factor']).sum()\n",
        "  cross =       -2* (1/sigma**3)  *   np.inner(np.array(table['projection_factor'])  ,    ( np.log(  np.array(table[col_name])) -mu ) )\n",
        "  second_sigma = -3* (1/sigma**4)  *   np.inner(np.array(table['projection_factor'])  ,    ( np.log(  np.array(table[col_name])) -mu )**2 )\n",
        "\n",
        "  hessian = np.array( [  [second_mu, cross],[cross, second_sigma]            ]            )\n",
        "\n",
        "  return hessian "
      ],
      "execution_count": 336,
      "outputs": []
    },
    {
      "cell_type": "code",
      "metadata": {
        "id": "L_U5Z7b0qiYc",
        "outputId": "f8681a1a-32bb-4b19-feb8-7a20413ea7f1",
        "colab": {
          "base_uri": "https://localhost:8080/",
          "height": 54
        }
      },
      "source": [
        "s_errors = []\n",
        "assumptions = ['bottom_income', 'mid_income' , 'top_income']\n",
        "\n",
        "for i in range(3):\n",
        "  estimates = mle[i]\n",
        "  info_matrix = - np.linalg.inv( hessian( estimates , assumptions[i]  ))\n",
        "\n",
        "  s_errors.append( np.sqrt( np.diag(info_matrix)   ) )\n",
        "\n",
        "print('These are the standard errors of the estimates \\n',s_errors)"
      ],
      "execution_count": 337,
      "outputs": [
        {
          "output_type": "stream",
          "text": [
            "These are the standard errors of the estimates \n",
            " [array([4.18006283e+00, 1.23419665e+04]), array([3.03228411e+00, 1.12069520e+04]), array([3.10136248e+00, 1.16065358e+04])]\n"
          ],
          "name": "stdout"
        }
      ]
    },
    {
      "cell_type": "markdown",
      "metadata": {
        "id": "J6f15s7jKc6J"
      },
      "source": [
        "## Part 3: Generalized Method of Moments"
      ]
    },
    {
      "cell_type": "markdown",
      "metadata": {
        "id": "JNRf_25s0Hp6"
      },
      "source": [
        "We compute one moment condition for every bin, using all the observations across all years.\n",
        "\n",
        "### Jacobian\n",
        "\n",
        "This is the expression for the Jacobian:\n",
        "\n",
        "$$ \n",
        "\\frac{\\partial g}{\\partial \\mu} = - \\frac{1}{ \\sigma \\sqrt{2 \\pi} } \\left(   exp(-(log(top)-\\mu)^2/2\\sigma^2) - exp(-(log(bottom)-\\mu)^2/2\\sigma^2)  \\right)\n",
        "$$\n",
        "\n",
        "$$ \n",
        "\\frac{\\partial g}{\\partial \\sigma} = - \\frac{1 }{ \\sigma^2 \\sqrt{\\pi} } \\left[ (log(top)-\\mu)*exp(-( log(top)-\\mu)^2/2\\sigma^2) - (log(bottom)-\\mu)*exp(-( log(bottom)-\\mu)^2/2\\sigma^2)  \\right]\n",
        "$$"
      ]
    },
    {
      "cell_type": "code",
      "metadata": {
        "id": "S6bkhzif2onz"
      },
      "source": [
        "# we write a function that computes g for every bin\n",
        "from scipy.stats import lognorm\n",
        "\n",
        "def g( theta, table  ):\n",
        "  mu, sigma = theta\n",
        "  dist = lognorm(mu, sigma) \n",
        "\n",
        "  size = np.size(np.array(   table.groupby('household_income')['top_income'].mean()  ))\n",
        "\n",
        "  empirical_moment =  ( 1/np.array(table['projection_factor']).sum() )   *  np.array(table.groupby('household_income').sum()['projection_factor'])\n",
        "  \n",
        "  top_cdf    =   dist.cdf(  np.array(   table.groupby('household_income')['top_income'].mean()  )) \n",
        "  bottom_cdf =   dist.cdf(  np.array(  table.groupby('household_income')['bottom_income'].mean()   ) )\n",
        "\n",
        "  return (top_cdf - bottom_cdf - empirical_moment).reshape(size,1)\n",
        "\n",
        "\n"
      ],
      "execution_count": 344,
      "outputs": []
    },
    {
      "cell_type": "code",
      "metadata": {
        "id": "HckJ_7Ko9Z2o"
      },
      "source": [
        "# now we need a function for the objective function of GMM\n",
        "def gmm_obj( theta, wmatrix, g, table):\n",
        "  return   (np.transpose(g(theta, table)) @ wmatrix  @ g(theta, table)).item()   \n"
      ],
      "execution_count": 345,
      "outputs": []
    },
    {
      "cell_type": "markdown",
      "metadata": {
        "id": "eoR7EoNmDAg2"
      },
      "source": [
        "### First-stage Estimation\n",
        "At this point we can minimize the function we defined, using the identity matrix as a weighting matrix. We will minimize using the Newton algorithm, for which we need the Jacobian computed above. Remember that $$ \\frac{d g'Wg}{d\\theta } = 2 \\nabla(g)'Wg $$ which is a 2x1 vector."
      ]
    },
    {
      "cell_type": "code",
      "metadata": {
        "id": "ABi8TyHKC_7E"
      },
      "source": [
        "# we need a function that computes the Jacobian\n",
        "def jacobian(theta, w, g , table ):\n",
        "  mu , sigma = theta\n",
        "\n",
        "  log_top =    np.log(  np.array(  table.groupby('household_income')['top_income'].mean()  )   )\n",
        "  log_bottom = np.log(  np.array(  table.groupby('household_income')['bottom_income'].mean()  ))\n",
        "\n",
        "  dg_dmu = - (1 / ( sigma * np.sqrt( 2 * np.pi ) )   )  * (      np.exp(    -( log_top -mu   )**2  / ( 2* sigma**2)      )      - np.exp(    -( log_bottom -mu   )**2  / (2*sigma**2)    )    )\n",
        "\n",
        "  dg_ds = - (1 / (sigma**2 * np.sqrt( np.pi ) )   )  * ( (log_top-mu)* np.exp(    -( log_top -mu   )**2  / (2*sigma**2)      )      - (log_bottom - mu)*np.exp(   -( log_bottom -mu   )**2  / (2*sigma**2)   )  )\n",
        "\n",
        "  derivs = np.array( [ [dg_dmu]  ,  [dg_ds] ] )\n",
        "\n",
        "  return (2* derivs.dot(w).dot( g(theta, table) )).flatten()  \n",
        "  "
      ],
      "execution_count": 348,
      "outputs": []
    },
    {
      "cell_type": "code",
      "metadata": {
        "id": "oWhB51DF_LvC",
        "outputId": "f5710adc-da39-4985-d602-6fdc33aa3724",
        "colab": {
          "base_uri": "https://localhost:8080/",
          "height": 201
        }
      },
      "source": [
        "# take number of bins\n",
        "size = np.size(np.array(   table.groupby('household_income')['top_income'].mean()  ))\n",
        "\n",
        "# now minimize objective function of GMM for the first stage\n",
        "w = np.eye( size )\n",
        "gmm = minimize( gmm_obj , np.array([ 1 , 500 ]) , args = ( w, g, table )  , jac = jacobian , method= 'Newton-CG' , options = {'maxiter' : 2000}   )\n",
        "\n",
        "gmm\n"
      ],
      "execution_count": 349,
      "outputs": [
        {
          "output_type": "execute_result",
          "data": {
            "text/plain": [
              "     fun: 1.0800611413451555\n",
              "     jac: array([ 1.51721471e-07, -3.98333545e-05])\n",
              " message: 'Optimization terminated successfully.'\n",
              "    nfev: 2\n",
              "    nhev: 0\n",
              "     nit: 1\n",
              "    njev: 4\n",
              "  status: 0\n",
              " success: True\n",
              "       x: array([  1., 500.])"
            ]
          },
          "metadata": {
            "tags": []
          },
          "execution_count": 349
        }
      ]
    },
    {
      "cell_type": "markdown",
      "metadata": {
        "id": "xCDoTQQict5X"
      },
      "source": [
        "The Jacobian is very small so the algorithm does not move from the starting value. We don't think the Jacobian is wrong, but cannot find out why it gives so small values. \n",
        "\n",
        "All our estimates make very little sense. Means look ok but the variance is huge. Even the sample variance looks huge but we struggled to figure out why."
      ]
    }
  ]
}