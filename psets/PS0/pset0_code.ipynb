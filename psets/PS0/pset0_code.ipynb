{
 "cells": [
  {
   "cell_type": "markdown",
   "metadata": {},
   "source": [
    "# Empirical IO PhD Class\n",
    "## Problem Set 0\n",
    "Jimena, Eyal and Pietro \n",
    "\n",
    "September 2020"
   ]
  },
  {
   "cell_type": "markdown",
   "metadata": {},
   "source": [
    "## Problem 0: Logit Function\n",
    "** 1. The log-sum-exp function is convex everywhere: **\n",
    "\n",
    "Pick any distinct $x, y \\in \\mathbb{R}^{N+1}$ and any $\\alpha \\in (0,1)$. \n",
    "$$f ( \\alpha x + ( 1 - \\alpha ) y ) = \\log \\sum_{i=0}^N \\exp(\\alpha x_i + ( 1 - \\alpha ) y_i)$$\n",
    "Applying Hölder's inequality to $\\sum_{i=0}^N \\exp(\\alpha x_i) \\exp( ( 1 - \\alpha ) y_i)$ with exponents $\\frac{1}{\\alpha}$ and $\\frac{1}{1-\\alpha}$ we get \n",
    "$$ \\sum_{i=0}^N \\exp(\\alpha x_i) \\exp( ( 1 - \\alpha ) y_i ) \\leq \\left [ \\sum_{i=0}^N |\\exp(\\alpha x_i)|^{\\frac{1}{\\alpha}}\\right ]^\\alpha \\left [ \\sum_{i=0}^N |\\exp((1 - \\alpha) y_i)|^{\\frac{1}{1 - \\alpha}} \\right ]^{1 - \\alpha}$$\n",
    "Taking logs on both sides and rearranging: \n",
    "$$ \\log \\sum_{i=0}^N exp( \\alpha x_i + ( 1 - \\alpha ) y_i) \\leq \\alpha \\log \\sum_{i=0}^N exp( x_i ) + ( 1 - \\alpha )\\log \\sum_{i=0}^N exp( y_i )  $$\n",
    "So the function is convex everywhere. \n",
    "\n",
    "** 2. Using the max trick: **\n",
    "\n",
    "Fix some $x \\in \\mathbb{R}^{N+1}$ and let $m:=\\max_i x_i$. Assume wlog $x_0=m$. \n",
    "We have \n",
    "$$ IV = \\log \\sum_{i=0}^N exp(x_i) = \\log \\sum_{i=0}^N exp(x_i) \\frac{exp(m)}{exp(m)}  $$\n",
    "and rearranging \n",
    "$$ IV = m + \\log ( 1 + \\sum_{i=1}^N \\exp ( x_i-m ) ) $$\n",
    "We have rescaled everything relative to the $\\max$ and added a constant. With this we take the exponential of smaller numbers and avoid the overflow problem. \n",
    "\n",
    "** 3. Comparing it to scipy.misc.logsumexp. Does it appear to suffer from underflow/overflow?\n",
    "Does it use the max trick?**\n",
    "\n",
    "First generate a tuple of values which includes some $x_i>600$ and evaluate the function at this point."
   ]
  },
  {
   "cell_type": "code",
   "execution_count": 117,
   "metadata": {},
   "outputs": [],
   "source": [
    "import numpy as np\n",
    "from scipy.special import logsumexp\n",
    "\n",
    "x=np.arange(10, 800, 10)\n"
   ]
  },
  {
   "cell_type": "markdown",
   "metadata": {},
   "source": [
    "If we calculate the original IV equation we get the error (the evaluated number is infinity):"
   ]
  },
  {
   "cell_type": "code",
   "execution_count": 118,
   "metadata": {
    "scrolled": true
   },
   "outputs": [
    {
     "data": {
      "text/plain": [
       "inf"
      ]
     },
     "execution_count": 118,
     "metadata": {},
     "output_type": "execute_result"
    }
   ],
   "source": [
    "IV_1=np.log(np.sum(np.exp(x)))\n",
    "IV_1"
   ]
  },
  {
   "cell_type": "markdown",
   "metadata": {},
   "source": [
    "Now we do the *max* trick and compare to the value that we get from the logsumexp function:"
   ]
  },
  {
   "cell_type": "code",
   "execution_count": 119,
   "metadata": {},
   "outputs": [
    {
     "data": {
      "text/plain": [
       "790.6931698812978"
      ]
     },
     "execution_count": 119,
     "metadata": {},
     "output_type": "execute_result"
    }
   ],
   "source": [
    "m=max(x)\n",
    "IV=m+np.log(1+np.sum(np.exp(x-m)))\n",
    "IV\n"
   ]
  },
  {
   "cell_type": "code",
   "execution_count": 120,
   "metadata": {},
   "outputs": [
    {
     "data": {
      "text/plain": [
       "790.0000454009604"
      ]
     },
     "execution_count": 120,
     "metadata": {},
     "output_type": "execute_result"
    }
   ],
   "source": [
    "logsumexp(x)"
   ]
  },
  {
   "cell_type": "markdown",
   "metadata": {},
   "source": [
    "The logsumexp and the function we modified have similar results but not exactly the same so logsumexp is doing something else to compute IV."
   ]
  },
  {
   "cell_type": "markdown",
   "metadata": {},
   "source": [
    "## Problem 1: Stationary Distribution from eigenvectors\n",
    "Write a function that computes the ergodic distribution of the matrix\n",
    "$P$ by examining the properly rescaled eigenvectors and compare your result to $P^{100}$\n",
    "We first define the transition matrix P and take the 100th power of it."
   ]
  },
  {
   "cell_type": "code",
   "execution_count": 121,
   "metadata": {},
   "outputs": [
    {
     "data": {
      "text/plain": [
       "array([[0.31034483, 0.24137931, 0.44827586],\n",
       "       [0.31034483, 0.24137931, 0.44827586],\n",
       "       [0.31034483, 0.24137931, 0.44827586]])"
      ]
     },
     "execution_count": 121,
     "metadata": {},
     "output_type": "execute_result"
    }
   ],
   "source": [
    "P = np.array([[0.2, 0.4, 0.4],[0.1, 0.3, 0.6],[0.5, 0.1, 0.4]])\n",
    "P_100 = np.linalg.matrix_power(P, 100)\n",
    "P_100"
   ]
  },
  {
   "cell_type": "markdown",
   "metadata": {},
   "source": [
    "Now to calculate the stationary distribution we calculate the eigenvalues and left eigenvectors of P. "
   ]
  },
  {
   "cell_type": "code",
   "execution_count": 153,
   "metadata": {},
   "outputs": [
    {
     "data": {
      "text/plain": [
       "array([ 1.  +0.j        , -0.05+0.23979158j, -0.05-0.23979158j])"
      ]
     },
     "execution_count": 153,
     "metadata": {},
     "output_type": "execute_result"
    }
   ],
   "source": [
    "P_T = np.matrix.transpose(P)\n",
    "w,v = np.linalg.eig(P_T)\n",
    "w"
   ]
  },
  {
   "cell_type": "code",
   "execution_count": 154,
   "metadata": {},
   "outputs": [
    {
     "data": {
      "text/plain": [
       "array([[-0.52048344+0.j        ,  0.66666667+0.j        ,\n",
       "         0.66666667-0.j        ],\n",
       "       [-0.40482045+0.j        , -0.41666667-0.39965263j,\n",
       "        -0.41666667+0.39965263j],\n",
       "       [-0.75180941+0.j        , -0.25      +0.39965263j,\n",
       "        -0.25      -0.39965263j]])"
      ]
     },
     "execution_count": 154,
     "metadata": {},
     "output_type": "execute_result"
    }
   ],
   "source": [
    "v"
   ]
  },
  {
   "cell_type": "markdown",
   "metadata": {},
   "source": [
    "We take the unit eigenavlue and rescale the corresponding left eigenvectos"
   ]
  },
  {
   "cell_type": "code",
   "execution_count": 155,
   "metadata": {
    "scrolled": true
   },
   "outputs": [
    {
     "data": {
      "text/plain": [
       "array([-0.64031925,  0.82015963,  0.82015963])"
      ]
     },
     "execution_count": 155,
     "metadata": {},
     "output_type": "execute_result"
    }
   ],
   "source": [
    "d = np.sum(np.real(v[0]))\n",
    "pi = v[0].real/d\n",
    "pi"
   ]
  },
  {
   "cell_type": "code",
   "execution_count": 152,
   "metadata": {},
   "outputs": [
    {
     "name": "stdout",
     "output_type": "stream",
     "text": [
      "[-0.06962997+0.j         -0.00616493+0.15310378j -0.26002508+0.15310378j]\n",
      "[-0.57735027+0.j          0.05730011-0.51034592j  0.05730011+0.51034592j]\n"
     ]
    }
   ],
   "source": [
    "val, vec = np.linalg.eig(P)\n",
    "print(P.dot(np.matrix.transpose(vec[0])))\n",
    "print(val[0]*vec[0])"
   ]
  },
  {
   "cell_type": "markdown",
   "metadata": {},
   "source": [
    "## Problem 1 Stationaty Distribution from system of equations\n",
    "That approach is not working out for some reason so I solved it in a different way below and I got a pretty good match to $P^{100}$\n",
    "\n",
    "We want to have $\\pi$ such that $ (P^T-I)\\pi=0 $ and $\\sum_i \\pi_i=1$. We can write this as a system of equations $A\\pi=b$ with $A^T=[P^T-I, \\mathbb{1}]$ and $b=[\\mathbb{0}, 1]^T$ so that we can solve for $\\pi$ in $A^T A \\pi=A^T b$"
   ]
  },
  {
   "cell_type": "code",
   "execution_count": 124,
   "metadata": {},
   "outputs": [],
   "source": [
    "def stat_distr(M):\n",
    "    A = np.append(np.matrix.transpose(M) - np.identity(len(M)), [np.ones(len(M))], axis=0)\n",
    "    A_T = np.matrix.transpose(A)\n",
    "    b = np.matrix.transpose( np.append( [ np.zeros( len(M)) ], [1] ) )\n",
    "    x = np.linalg.solve( A_T.dot(A), A_T.dot(b) )\n",
    "    return x"
   ]
  },
  {
   "cell_type": "code",
   "execution_count": 125,
   "metadata": {},
   "outputs": [
    {
     "data": {
      "text/plain": [
       "array([0.31034483, 0.24137931, 0.44827586])"
      ]
     },
     "execution_count": 125,
     "metadata": {},
     "output_type": "execute_result"
    }
   ],
   "source": [
    "stat_distr(P)"
   ]
  },
  {
   "cell_type": "code",
   "execution_count": 156,
   "metadata": {},
   "outputs": [
    {
     "data": {
      "text/plain": [
       "array([[0.31034483, 0.24137931, 0.44827586],\n",
       "       [0.31034483, 0.24137931, 0.44827586],\n",
       "       [0.31034483, 0.24137931, 0.44827586]])"
      ]
     },
     "execution_count": 156,
     "metadata": {},
     "output_type": "execute_result"
    }
   ],
   "source": [
    "P_100"
   ]
  },
  {
   "cell_type": "markdown",
   "metadata": {},
   "source": [
    "## Problem 2: Numerical Integration"
   ]
  },
  {
   "cell_type": "code",
   "execution_count": 179,
   "metadata": {},
   "outputs": [],
   "source": [
    "import scipy as sp\n",
    "from scipy import stats\n",
    "def binomiallogit(b, pdf=sp.stats.norm.pdf):\n",
    "    return (np.exp(b*.5)/(1+np.exp(b*.5)))*pdf(b, 0.5, np.sqrt(2))\n",
    "    \n",
    "\n",
    "    "
   ]
  },
  {
   "cell_type": "code",
   "execution_count": 206,
   "metadata": {},
   "outputs": [
    {
     "name": "stdout",
     "output_type": "stream",
     "text": [
      "0.0\n"
     ]
    }
   ],
   "source": [
    "a= binomiallogit(-100)\n",
    "print(a)"
   ]
  },
  {
   "cell_type": "code",
   "execution_count": 211,
   "metadata": {},
   "outputs": [
    {
     "name": "stderr",
     "output_type": "stream",
     "text": [
      "C:\\ProgramData\\Anaconda3\\lib\\site-packages\\ipykernel_launcher.py:4: RuntimeWarning: invalid value encountered in double_scalars\n",
      "  after removing the cwd from sys.path.\n",
      "C:\\ProgramData\\Anaconda3\\lib\\site-packages\\scipy\\integrate\\quadpack.py:385: IntegrationWarning: The occurrence of roundoff error is detected, which prevents \n",
      "  the requested tolerance from being achieved.  The error may be \n",
      "  underestimated.\n",
      "  warnings.warn(msg, IntegrationWarning)\n"
     ]
    },
    {
     "data": {
      "text/plain": [
       "(nan, nan)"
      ]
     },
     "execution_count": 211,
     "metadata": {},
     "output_type": "execute_result"
    }
   ],
   "source": [
    "sp.integrate.quad(binomiallogit, -10000, 10000, epsrel=10^(-14))"
   ]
  },
  {
   "cell_type": "code",
   "execution_count": null,
   "metadata": {},
   "outputs": [],
   "source": []
  }
 ],
 "metadata": {
  "kernelspec": {
   "display_name": "Python 3",
   "language": "python",
   "name": "python3"
  },
  "language_info": {
   "codemirror_mode": {
    "name": "ipython",
    "version": 3
   },
   "file_extension": ".py",
   "mimetype": "text/x-python",
   "name": "python",
   "nbconvert_exporter": "python",
   "pygments_lexer": "ipython3",
   "version": "3.6.5"
  }
 },
 "nbformat": 4,
 "nbformat_minor": 2
}
